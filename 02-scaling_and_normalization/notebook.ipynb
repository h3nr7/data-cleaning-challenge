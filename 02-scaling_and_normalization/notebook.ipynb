{
 "cells": [
  {
   "cell_type": "markdown",
   "metadata": {
    "_cell_guid": "b91a74ba-85f4-486e-b5f9-d0898f0626bf",
    "_uuid": "6ac53f18b4f4ec0fc44348cedb5d1c319fa127c0"
   },
   "source": [
    "### All days of the challange:\n",
    "\n",
    "* [Day 1: Handling missing values](https://www.kaggle.com/rtatman/data-cleaning-challenge-handling-missing-values)\n",
    "* [Day 2: Scaling and normalization](https://www.kaggle.com/rtatman/data-cleaning-challenge-scale-and-normalize-data)\n",
    "* [Day 3: Parsing dates](https://www.kaggle.com/rtatman/data-cleaning-challenge-parsing-dates/)\n",
    "* [Day 4: Character encodings](https://www.kaggle.com/rtatman/data-cleaning-challenge-character-encodings/)\n",
    "* [Day 5: Inconsistent Data Entry](https://www.kaggle.com/rtatman/data-cleaning-challenge-inconsistent-data-entry/)\n",
    "___\n",
    "Welcome to day 2 of the 5-Day Data Challenge! Today, we're going to be looking at how to scale and normalize data (and what the difference is between the two!). To get started, click the blue \"Fork Notebook\" button in the upper, right hand corner. This will create a private copy of this notebook that you can edit and play with. Once you're finished with the exercises, you can choose to make your notebook public to share with others. :)\n",
    "\n",
    "> **Your turn!** As we work through this notebook, you'll see some notebook cells (a block of either code or text) that has \"Your Turn!\" written in it. These are exercises for you to do to help cement your understanding of the concepts we're talking about. Once you've written the code to answer a specific question, you can run the code by clicking inside the cell (box with code in it) with the code you want to run and then hit CTRL + ENTER (CMD + ENTER on a Mac). You can also click in a cell and then click on the right \"play\" arrow to the left of the code. If you want to run all the code in your notebook, you can use the double, \"fast forward\" arrows at the bottom of the notebook editor.\n",
    "\n",
    "Here's what we're going to do today:\n",
    "\n",
    "* [Get our environment set up](#Get-our-environment-set-up)\n",
    "* [Scaling vs. Normalization: What's the difference?](#Scaling-vs.-Normalization:-What's-the-difference?)\n",
    "* [Practice scaling](#Practice-scaling)\n",
    "* [Practice normalization](#Practice-normalization)\n",
    "\n",
    "Let's get started!"
   ]
  },
  {
   "cell_type": "markdown",
   "metadata": {
    "_cell_guid": "5cd5061f-ae30-4837-a53b-690ffd5c5830",
    "_uuid": "9d82bf13584b8e682962fbb96131f2447d741679"
   },
   "source": [
    "# Get our environment set up\n",
    "________\n",
    "\n",
    "The first thing we'll need to do is load in the libraries and datasets we'll be using. \n",
    "\n",
    "> **Important!** Make sure you run this cell yourself or the rest of your code won't work!"
   ]
  },
  {
   "cell_type": "code",
   "execution_count": 2,
   "metadata": {
    "_cell_guid": "135a7804-b5f5-40aa-8657-4a15774e3666",
    "_uuid": "835cbe0834b935fb0fd40c75b9c39454836f4d5f"
   },
   "outputs": [],
   "source": [
    "# modules we'll use\n",
    "import pandas as pd\n",
    "import numpy as np\n",
    "\n",
    "# for Box-Cox Transformation\n",
    "from scipy import stats\n",
    "\n",
    "# for min_max scaling\n",
    "from mlxtend.preprocessing import minmax_scaling\n",
    "\n",
    "# plotting modules\n",
    "import seaborn as sns\n",
    "import matplotlib.pyplot as plt\n",
    "\n",
    "# read in all our data\n",
    "kickstarters_2017 = pd.read_csv(\"../_data/ks-projects-201801.csv\")\n",
    "\n",
    "# set seed for reproducibility\n",
    "np.random.seed(0)"
   ]
  },
  {
   "cell_type": "code",
   "execution_count": 11,
   "metadata": {},
   "outputs": [
    {
     "data": {
      "text/html": [
       "<div>\n",
       "<style scoped>\n",
       "    .dataframe tbody tr th:only-of-type {\n",
       "        vertical-align: middle;\n",
       "    }\n",
       "\n",
       "    .dataframe tbody tr th {\n",
       "        vertical-align: top;\n",
       "    }\n",
       "\n",
       "    .dataframe thead th {\n",
       "        text-align: right;\n",
       "    }\n",
       "</style>\n",
       "<table border=\"1\" class=\"dataframe\">\n",
       "  <thead>\n",
       "    <tr style=\"text-align: right;\">\n",
       "      <th></th>\n",
       "      <th>ID</th>\n",
       "      <th>name</th>\n",
       "      <th>category</th>\n",
       "      <th>main_category</th>\n",
       "      <th>currency</th>\n",
       "      <th>deadline</th>\n",
       "      <th>goal</th>\n",
       "      <th>launched</th>\n",
       "      <th>pledged</th>\n",
       "      <th>state</th>\n",
       "      <th>backers</th>\n",
       "      <th>country</th>\n",
       "      <th>usd pledged</th>\n",
       "      <th>usd_pledged_real</th>\n",
       "      <th>usd_goal_real</th>\n",
       "    </tr>\n",
       "  </thead>\n",
       "  <tbody>\n",
       "    <tr>\n",
       "      <th>378656</th>\n",
       "      <td>999976400</td>\n",
       "      <td>ChknTruk Nationwide Charity Drive 2014 (Canceled)</td>\n",
       "      <td>Documentary</td>\n",
       "      <td>Film &amp; Video</td>\n",
       "      <td>USD</td>\n",
       "      <td>2014-10-17</td>\n",
       "      <td>50000.0</td>\n",
       "      <td>2014-09-17 02:35:30</td>\n",
       "      <td>25.0</td>\n",
       "      <td>canceled</td>\n",
       "      <td>1</td>\n",
       "      <td>US</td>\n",
       "      <td>25.0</td>\n",
       "      <td>25.0</td>\n",
       "      <td>50000.0</td>\n",
       "    </tr>\n",
       "    <tr>\n",
       "      <th>378657</th>\n",
       "      <td>999977640</td>\n",
       "      <td>The Tribe</td>\n",
       "      <td>Narrative Film</td>\n",
       "      <td>Film &amp; Video</td>\n",
       "      <td>USD</td>\n",
       "      <td>2011-07-19</td>\n",
       "      <td>1500.0</td>\n",
       "      <td>2011-06-22 03:35:14</td>\n",
       "      <td>155.0</td>\n",
       "      <td>failed</td>\n",
       "      <td>5</td>\n",
       "      <td>US</td>\n",
       "      <td>155.0</td>\n",
       "      <td>155.0</td>\n",
       "      <td>1500.0</td>\n",
       "    </tr>\n",
       "    <tr>\n",
       "      <th>378658</th>\n",
       "      <td>999986353</td>\n",
       "      <td>Walls of Remedy- New lesbian Romantic Comedy f...</td>\n",
       "      <td>Narrative Film</td>\n",
       "      <td>Film &amp; Video</td>\n",
       "      <td>USD</td>\n",
       "      <td>2010-08-16</td>\n",
       "      <td>15000.0</td>\n",
       "      <td>2010-07-01 19:40:30</td>\n",
       "      <td>20.0</td>\n",
       "      <td>failed</td>\n",
       "      <td>1</td>\n",
       "      <td>US</td>\n",
       "      <td>20.0</td>\n",
       "      <td>20.0</td>\n",
       "      <td>15000.0</td>\n",
       "    </tr>\n",
       "    <tr>\n",
       "      <th>378659</th>\n",
       "      <td>999987933</td>\n",
       "      <td>BioDefense Education Kit</td>\n",
       "      <td>Technology</td>\n",
       "      <td>Technology</td>\n",
       "      <td>USD</td>\n",
       "      <td>2016-02-13</td>\n",
       "      <td>15000.0</td>\n",
       "      <td>2016-01-13 18:13:53</td>\n",
       "      <td>200.0</td>\n",
       "      <td>failed</td>\n",
       "      <td>6</td>\n",
       "      <td>US</td>\n",
       "      <td>200.0</td>\n",
       "      <td>200.0</td>\n",
       "      <td>15000.0</td>\n",
       "    </tr>\n",
       "    <tr>\n",
       "      <th>378660</th>\n",
       "      <td>999988282</td>\n",
       "      <td>Nou Renmen Ayiti!  We Love Haiti!</td>\n",
       "      <td>Performance Art</td>\n",
       "      <td>Art</td>\n",
       "      <td>USD</td>\n",
       "      <td>2011-08-16</td>\n",
       "      <td>2000.0</td>\n",
       "      <td>2011-07-19 09:07:47</td>\n",
       "      <td>524.0</td>\n",
       "      <td>failed</td>\n",
       "      <td>17</td>\n",
       "      <td>US</td>\n",
       "      <td>524.0</td>\n",
       "      <td>524.0</td>\n",
       "      <td>2000.0</td>\n",
       "    </tr>\n",
       "  </tbody>\n",
       "</table>\n",
       "</div>"
      ],
      "text/plain": [
       "               ID                                               name  \\\n",
       "378656  999976400  ChknTruk Nationwide Charity Drive 2014 (Canceled)   \n",
       "378657  999977640                                          The Tribe   \n",
       "378658  999986353  Walls of Remedy- New lesbian Romantic Comedy f...   \n",
       "378659  999987933                           BioDefense Education Kit   \n",
       "378660  999988282                  Nou Renmen Ayiti!  We Love Haiti!   \n",
       "\n",
       "               category main_category currency    deadline     goal  \\\n",
       "378656      Documentary  Film & Video      USD  2014-10-17  50000.0   \n",
       "378657   Narrative Film  Film & Video      USD  2011-07-19   1500.0   \n",
       "378658   Narrative Film  Film & Video      USD  2010-08-16  15000.0   \n",
       "378659       Technology    Technology      USD  2016-02-13  15000.0   \n",
       "378660  Performance Art           Art      USD  2011-08-16   2000.0   \n",
       "\n",
       "                   launched  pledged     state  backers country  usd pledged  \\\n",
       "378656  2014-09-17 02:35:30     25.0  canceled        1      US         25.0   \n",
       "378657  2011-06-22 03:35:14    155.0    failed        5      US        155.0   \n",
       "378658  2010-07-01 19:40:30     20.0    failed        1      US         20.0   \n",
       "378659  2016-01-13 18:13:53    200.0    failed        6      US        200.0   \n",
       "378660  2011-07-19 09:07:47    524.0    failed       17      US        524.0   \n",
       "\n",
       "        usd_pledged_real  usd_goal_real  \n",
       "378656              25.0        50000.0  \n",
       "378657             155.0         1500.0  \n",
       "378658              20.0        15000.0  \n",
       "378659             200.0        15000.0  \n",
       "378660             524.0         2000.0  "
      ]
     },
     "execution_count": 11,
     "metadata": {},
     "output_type": "execute_result"
    }
   ],
   "source": [
    "kickstarters_2017.tail()\n"
   ]
  },
  {
   "cell_type": "markdown",
   "metadata": {
    "_cell_guid": "604ac3a4-b1d9-4264-b312-4bbeecdeec00",
    "_uuid": "03ce3b4afe87d98f777172c2c7be066a66a0b237"
   },
   "source": [
    "Now that we're set up, let's learn about scaling & normalization. (If you like, you can take this opportunity to take a look at some of the data.)"
   ]
  },
  {
   "cell_type": "markdown",
   "metadata": {
    "_cell_guid": "62b9f021-5b80-43e2-bf60-8e0d5e22d572",
    "_uuid": "032a618abb98a28e60ab84376cf21402178f995d"
   },
   "source": [
    "# Scaling vs. Normalization: What's the difference?\n",
    "____\n",
    "\n",
    "One of the reasons that it's easy to get confused between scaling and normalization is because the terms are sometimes used interchangeably and, to make it even more confusing, they are very similar! In both cases, you're transforming the values of numeric variables so that the transformed data points have specific helpful properties. The difference is that, in scaling, you're changing the *range* of your data while in normalization you're changing the *shape of the distribution* of your data. Let's talk a little more in-depth about each of these options. \n",
    "\n",
    "___\n",
    "\n",
    "## **Scaling**\n",
    "\n",
    "This means that you're transforming your data so that it fits within a specific scale, like 0-100 or 0-1.  You want to scale data when you're using methods based on measures of how far apart data points, like [support vector machines, or SVM](https://en.wikipedia.org/wiki/Support_vector_machine) or [k-nearest neighbors, or KNN](https://en.wikipedia.org/wiki/K-nearest_neighbors_algorithm). With these algorithms, a change of \"1\" in any numeric feature is given the same importance. \n",
    "\n",
    "For example, you might be looking at the prices of some products in both Yen and US Dollars. One US Dollar is worth about 100 Yen, but if you don't scale your prices methods like SVM or KNN will consider a difference in price of 1 Yen as important as a difference of 1 US Dollar! This clearly doesn't fit with our intuitions of the world. With currency, you can convert between currencies. But what about if you're looking at something like height and weight? It's not entirely clear how many pounds should equal one inch (or how many kilograms should equal one meter).\n",
    "\n",
    "By scaling your variables, you can help compare different variables on equal footing. To help solidify what scaling looks like, let's look at a made-up example. (Don't worry, we'll work with real data in just a second, this is just to help illustrate my point.)\n"
   ]
  },
  {
   "cell_type": "code",
   "execution_count": 3,
   "metadata": {
    "_cell_guid": "e0942c00-e306-4c64-a53a-e76d07cd937f",
    "_uuid": "e35280c753de7b963c4d812624c816c766ef4367"
   },
   "outputs": [
    {
     "name": "stderr",
     "output_type": "stream",
     "text": [
      "c:\\programdata\\anaconda3\\envs\\aind\\lib\\site-packages\\matplotlib\\axes\\_axes.py:6448: UserWarning: The 'normed' kwarg is deprecated, and has been replaced by the 'density' kwarg.\n",
      "  warnings.warn(\"The 'normed' kwarg is deprecated, and has been \"\n"
     ]
    },
    {
     "data": {
      "text/plain": [
       "Text(0.5,1,'Scaled data')"
      ]
     },
     "execution_count": 3,
     "metadata": {},
     "output_type": "execute_result"
    },
    {
     "data": {
      "image/png": "[encoded data removed]",
      "text/plain": [
       "<Figure size 432x288 with 2 Axes>"
      ]
     },
     "metadata": {},
     "output_type": "display_data"
    }
   ],
   "source": [
    "# generate 1000 data points randomly drawn from an exponential distribution\n",
    "original_data = np.random.exponential(size = 1000)\n",
    "\n",
    "# mix-max scale the data between 0 and 1\n",
    "scaled_data = minmax_scaling(original_data, columns = [0])\n",
    "\n",
    "# plot both together to compare\n",
    "fig, ax=plt.subplots(1,2)\n",
    "sns.distplot(original_data, ax=ax[0])\n",
    "ax[0].set_title(\"Original Data\")\n",
    "sns.distplot(scaled_data, ax=ax[1])\n",
    "ax[1].set_title(\"Scaled data\")"
   ]
  },
  {
   "cell_type": "markdown",
   "metadata": {
    "_cell_guid": "ed530656-2707-4978-835c-c665a9e25ec0",
    "_uuid": "a2523383e47af8d7902b75c5da7829b85553dcae"
   },
   "source": [
    "Notice that the *shape* of the data doesn't change, but that instead of ranging from 0 to 8ish, it now ranges from 0 to 1.\n",
    "\n",
    "___\n",
    "## Normalization\n",
    "\n",
    "Scaling just changes the range of your data. Normalization is a more radical transformation. The point of normalization is to change your observations so that they can be described as a normal distribution.\n",
    "\n",
    "> **[Normal distribution:](https://en.wikipedia.org/wiki/Normal_distribution)** Also known as the \"bell curve\", this is a specific statistical distribution where a roughly equal observations fall above and below the mean, the mean and the median are the same, and there are more observations closer to the mean. The normal distribution is also known as the Gaussian distribution.\n",
    "\n",
    "In general, you'll only want to normalize your data if you're going to be using a machine learning or statistics technique that assumes your data is normally distributed. Some examples of these include t-tests, ANOVAs, linear regression, linear discriminant analysis (LDA) and Gaussian naive Bayes. (Pro tip: any method with \"Gaussian\" in the name probably assumes normality.)\n",
    "\n",
    "The method were  using to normalize here is called the [Box-Cox Transformation](https://en.wikipedia.org/wiki/Power_transform#Box%E2%80%93Cox_transformation). Let's take a quick peek at what normalizing some data looks like:"
   ]
  },
  {
   "cell_type": "code",
   "execution_count": 4,
   "metadata": {
    "_cell_guid": "851dc531-ea15-46f4-ba59-2e9be614856c",
    "_uuid": "e1484f70203b1a9335a557939398beb45b3a4fbd",
    "scrolled": true
   },
   "outputs": [
    {
     "name": "stderr",
     "output_type": "stream",
     "text": [
      "c:\\programdata\\anaconda3\\envs\\aind\\lib\\site-packages\\matplotlib\\axes\\_axes.py:6448: UserWarning: The 'normed' kwarg is deprecated, and has been replaced by the 'density' kwarg.\n",
      "  warnings.warn(\"The 'normed' kwarg is deprecated, and has been \"\n"
     ]
    },
    {
     "data": {
      "text/plain": [
       "Text(0.5,1,'Normalized data')"
      ]
     },
     "execution_count": 4,
     "metadata": {},
     "output_type": "execute_result"
    },
    {
     "data": {
      "image/png": "[encoded data removed]",
      "text/plain": [
       "<Figure size 432x288 with 2 Axes>"
      ]
     },
     "metadata": {},
     "output_type": "display_data"
    }
   ],
   "source": [
    "# normalize the exponential data with boxcox\n",
    "normalized_data = stats.boxcox(original_data)\n",
    "\n",
    "# plot both together to compare\n",
    "fig, ax=plt.subplots(1,2)\n",
    "sns.distplot(original_data, ax=ax[0])\n",
    "ax[0].set_title(\"Original Data\")\n",
    "sns.distplot(normalized_data[0], ax=ax[1])\n",
    "ax[1].set_title(\"Normalized data\")"
   ]
  },
  {
   "cell_type": "markdown",
   "metadata": {
    "_cell_guid": "52011105-e1e3-4bb0-9b59-59614a96e3d4",
    "_uuid": "5975eb63a310ca983facc4a8b969e235fee58c74"
   },
   "source": [
    "Notice that the *shape* of our data has changed. Before normalizing it was almost L-shaped. But after normalizing it looks more like the outline of a bell (hence \"bell curve\"). \n",
    "\n",
    "___\n",
    "## Your turn!\n",
    "\n",
    "For the following example, decide whether scaling or normalization makes more sense. \n",
    "\n",
    "* You want to build a linear regression model to predict someone's grades given how much time they spend on various activities during a normal school week.  You notice that your measurements for how much time students spend studying aren't normally distributed: some students spend almost no time studying and others study for four or more hours every day. Should you scale or normalize this variable?\n",
    "* You're still working on your grades study, but you want to include information on how students perform on several fitness tests as well. You have information on how many jumping jacks and push-ups each student can complete in a minute. However, you notice that students perform far more jumping jacks than push-ups: the average for the former is 40, and for the latter only 10. Should you scale or normalize these variables?"
   ]
  },
  {
   "cell_type": "markdown",
   "metadata": {
    "_cell_guid": "fc728697-ce3e-4890-b14d-597b2281f30d",
    "_uuid": "0c4d06413046e632dd1936095028587af3be0e47"
   },
   "source": [
    "# Practice scaling\n",
    "___\n",
    "\n",
    "To practice scaling and normalization, we're going to be using a dataset of Kickstarter campaigns. (Kickstarter is a website where people can ask people to invest in various projects and concept products.)\n",
    "\n",
    "Let's start by scaling the goals of each campaign, which is how much money they were asking for."
   ]
  },
  {
   "cell_type": "code",
   "execution_count": 5,
   "metadata": {
    "_cell_guid": "de763e3b-9068-41db-89b0-25a5ca2d4e3b",
    "_uuid": "0b8e70d8847a16672ed0d948d1d33b2f862a6b4c"
   },
   "outputs": [
    {
     "name": "stderr",
     "output_type": "stream",
     "text": [
      "c:\\programdata\\anaconda3\\envs\\aind\\lib\\site-packages\\matplotlib\\axes\\_axes.py:6448: UserWarning: The 'normed' kwarg is deprecated, and has been replaced by the 'density' kwarg.\n",
      "  warnings.warn(\"The 'normed' kwarg is deprecated, and has been \"\n"
     ]
    },
    {
     "data": {
      "text/plain": [
       "Text(0.5,1,'Scaled data')"
      ]
     },
     "execution_count": 5,
     "metadata": {},
     "output_type": "execute_result"
    },
    {
     "data": {
      "image/png": "[encoded data removed]",
      "text/plain": [
       "<Figure size 432x288 with 2 Axes>"
      ]
     },
     "metadata": {},
     "output_type": "display_data"
    }
   ],
   "source": [
    "# select the usd_goal_real column\n",
    "usd_goal = kickstarters_2017.usd_goal_real\n",
    "\n",
    "# scale the goals from 0 to 1\n",
    "scaled_data = minmax_scaling(usd_goal, columns = [0])\n",
    "\n",
    "# plot the original & scaled data together to compare\n",
    "fig, ax=plt.subplots(1,2)\n",
    "sns.distplot(kickstarters_2017.usd_goal_real, ax=ax[0])\n",
    "ax[0].set_title(\"Original Data\")\n",
    "sns.distplot(scaled_data, ax=ax[1])\n",
    "ax[1].set_title(\"Scaled data\")"
   ]
  },
  {
   "cell_type": "markdown",
   "metadata": {
    "_cell_guid": "5a49630f-65eb-4bec-85e1-f75d7a362330",
    "_uuid": "8a5e45f15d161b648889d7ab5c0bb53e9b3aa866"
   },
   "source": [
    "You can see that scaling changed the scales of the plots dramatically (but not the shape of the data: it looks like most campaigns have small goals but a few have very large ones)"
   ]
  },
  {
   "cell_type": "code",
   "execution_count": 9,
   "metadata": {
    "_cell_guid": "e7642d9a-701c-4142-9de8-00e65be3bd64",
    "_uuid": "d1a6395b65baf92b88a08c386e6dfd78fe6466d1"
   },
   "outputs": [
    {
     "name": "stderr",
     "output_type": "stream",
     "text": [
      "c:\\programdata\\anaconda3\\envs\\aind\\lib\\site-packages\\matplotlib\\axes\\_axes.py:6448: UserWarning: The 'normed' kwarg is deprecated, and has been replaced by the 'density' kwarg.\n",
      "  warnings.warn(\"The 'normed' kwarg is deprecated, and has been \"\n"
     ]
    },
    {
     "data": {
      "text/plain": [
       "Text(0.5,1,'Scaled data')"
      ]
     },
     "execution_count": 9,
     "metadata": {},
     "output_type": "execute_result"
    },
    {
     "data": {
      "image/png": "[encoded data removed]",
      "text/plain": [
       "<Figure size 432x288 with 2 Axes>"
      ]
     },
     "metadata": {},
     "output_type": "display_data"
    }
   ],
   "source": [
    "# Your turn! \n",
    "goal= kickstarters_2017.goal\n",
    "scaled_goal = minmax_scaling(goal, columns=[0])\n",
    "\n",
    "fig, ax = plt.subplots(1,2)\n",
    "sns.distplot(kickstarters_2017.goal, ax=ax[0])\n",
    "ax[0].set_title('Org data')\n",
    "sns.distplot(scaled_goal, ax=ax[1])\n",
    "ax[1].set_title('Scaled data')\n",
    "\n",
    "# We just scaled the \"usd_goal_real\" column. What about the \"goal\" column?\n"
   ]
  },
  {
   "cell_type": "markdown",
   "metadata": {
    "_cell_guid": "bc6457a4-0850-4ba8-b3d3-d13b0773a816",
    "_uuid": "027cd701d636d429da778526c55ceca1a90a3f7d"
   },
   "source": [
    "# Practice normalization\n",
    "___\n",
    "\n",
    "Ok, now let's try practicing normalization. We're going to normalize the amount of money pledged to each campaign."
   ]
  },
  {
   "cell_type": "code",
   "execution_count": 12,
   "metadata": {
    "_cell_guid": "3daf5f3e-cb09-4c37-8157-40b1a9156ef8",
    "_uuid": "9ed5aceeb2f13dad8868e1587cf06ef7e6bc3efe"
   },
   "outputs": [
    {
     "name": "stderr",
     "output_type": "stream",
     "text": [
      "c:\\programdata\\anaconda3\\envs\\aind\\lib\\site-packages\\matplotlib\\axes\\_axes.py:6448: UserWarning: The 'normed' kwarg is deprecated, and has been replaced by the 'density' kwarg.\n",
      "  warnings.warn(\"The 'normed' kwarg is deprecated, and has been \"\n"
     ]
    },
    {
     "data": {
      "text/plain": [
       "Text(0.5,1,'Normalized data')"
      ]
     },
     "execution_count": 12,
     "metadata": {},
     "output_type": "execute_result"
    },
    {
     "data": {
      "image/png": "[encoded data removed]",
      "text/plain": [
       "<Figure size 432x288 with 2 Axes>"
      ]
     },
     "metadata": {},
     "output_type": "display_data"
    }
   ],
   "source": [
    "# get the index of all positive pledges (Box-Cox only takes postive values)\n",
    "index_of_positive_pledges = kickstarters_2017.usd_pledged_real > 0\n",
    "\n",
    "# get only positive pledges (using their indexes)\n",
    "positive_pledges = kickstarters_2017.usd_pledged_real.loc[index_of_positive_pledges]\n",
    "\n",
    "# normalize the pledges (w/ Box-Cox)\n",
    "normalized_pledges = stats.boxcox(positive_pledges)[0]\n",
    "\n",
    "# plot both together to compare\n",
    "fig, ax=plt.subplots(1,2)\n",
    "sns.distplot(positive_pledges, ax=ax[0])\n",
    "ax[0].set_title(\"Original Data\")\n",
    "sns.distplot(normalized_pledges, ax=ax[1])\n",
    "ax[1].set_title(\"Normalized data\")"
   ]
  },
  {
   "cell_type": "markdown",
   "metadata": {
    "_cell_guid": "1f029f7c-6e50-4248-bfab-f825b91d66f4",
    "_uuid": "c67255d163072abc343768753cea0ea52a493f98"
   },
   "source": [
    "It's not perfect (it looks like a lot pledges got very few pledges) but it is much closer to normal!"
   ]
  },
  {
   "cell_type": "code",
   "execution_count": 14,
   "metadata": {
    "_cell_guid": "39b812f2-aa99-44c9-9ff8-1d7dd8aa9a03",
    "_uuid": "5852785ba1225a1675e8abd2e60513a0a0538e8d"
   },
   "outputs": [
    {
     "name": "stderr",
     "output_type": "stream",
     "text": [
      "c:\\programdata\\anaconda3\\envs\\aind\\lib\\site-packages\\matplotlib\\axes\\_axes.py:6448: UserWarning: The 'normed' kwarg is deprecated, and has been replaced by the 'density' kwarg.\n",
      "  warnings.warn(\"The 'normed' kwarg is deprecated, and has been \"\n"
     ]
    },
    {
     "data": {
      "text/plain": [
       "Text(0.5,1,'Norm Data')"
      ]
     },
     "execution_count": 14,
     "metadata": {},
     "output_type": "execute_result"
    },
    {
     "data": {
      "image/png": "[encoded data removed]",
      "text/plain": [
       "<Figure size 432x288 with 2 Axes>"
      ]
     },
     "metadata": {},
     "output_type": "display_data"
    }
   ],
   "source": [
    "# Your turn! \n",
    "# We looked as the usd_pledged_real column. What about the \"pledged\" column? Does it have the same info?\n",
    "index_of_pos_pledges = kickstarters_2017.pledged > 0\n",
    "pos_pledges = kickstarters_2017.pledged.loc[index_of_pos_pledges]\n",
    "\n",
    "norm_pledges = stats.boxcox(pos_pledges)[0]\n",
    "\n",
    "fig, ax = plt.subplots(1,2)\n",
    "sns.distplot(pos_pledges, ax=ax[0])\n",
    "ax[0].set_title('Org Data')\n",
    "sns.distplot(norm_pledges, ax=ax[1])\n",
    "ax[1].set_title('Norm Data')"
   ]
  },
  {
   "cell_type": "markdown",
   "metadata": {
    "_cell_guid": "b4f37fce-4d08-409e-bbbd-6a26c3bbc6ee",
    "_uuid": "52b0af56e3c77db96056e9acd785f8f435f7caf5"
   },
   "source": [
    "And that's it for today! If you have any questions, be sure to post them in the comments below or [on the forums](https://www.kaggle.com/questions-and-answers). \n",
    "\n",
    "Remember that your notebook is private by default, and in order to share it with other people or ask for help with it, you'll need to make it public. First, you'll need to save a version of your notebook that shows your current work by hitting the \"Commit & Run\" button. (Your work is saved automatically, but versioning your work lets you go back and look at what it was like at the point you saved it. It also lets you share a nice compiled notebook instead of just the raw code.) Then, once your notebook is finished running, you can go to the Settings tab in the panel to the left (you may have to expand it by hitting the [<] button next to the \"Commit & Run\" button) and setting the \"Visibility\" dropdown to \"Public\".\n",
    "\n",
    "# More practice!\n",
    "___\n",
    "\n",
    "Try finding a new dataset and pretend you're preparing to preform a [regression analysis](https://www.kaggle.com/rtatman/the-5-day-regression-challenge). ([These datasets are a good start!](https://www.kaggle.com/rtatman/datasets-for-regression-analysis)) Pick three or four variables and decide if you need to normalize or scale any of them and, if you think you should, practice applying the correct technique."
   ]
  },
  {
   "cell_type": "code",
   "execution_count": null,
   "metadata": {},
   "outputs": [],
   "source": []
  }
 ],
 "metadata": {
  "kernelspec": {
   "display_name": "Python 3",
   "language": "python",
   "name": "python3"
  },
  "language_info": {
   "codemirror_mode": {
    "name": "ipython",
    "version": 3
   },
   "file_extension": ".py",
   "mimetype": "text/x-python",
   "name": "python",
   "nbconvert_exporter": "python",
   "pygments_lexer": "ipython3",
   "version": "3.6.4"
  }
 },
 "nbformat": 4,
 "nbformat_minor": 1
}
